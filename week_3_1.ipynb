{
    "nbformat_minor": 1, 
    "cells": [
        {
            "source": "<h3> Setting up the environment</h3>", 
            "cell_type": "markdown", 
            "metadata": {
                "collapsed": true
            }
        }, 
        {
            "source": "import numpy as np\nimport pandas as pd\npd.set_option('display.max_columns', None)\npd.set_option('display.max_rows', None)\n\nimport json\n\n#!conda install -c conda-forge geopy --yes\nfrom geopy.geocoders import Nominatim\n\nfrom bs4 import BeautifulSoup\nfrom urllib.request import urlopen\nimport requests\nfrom pandas.io.json import json_normalize\n\nimport matplotlib.cm as cm\nimport matplotlib.colors as colors\n\nfrom sklearn.cluster import KMeans\n\n!conda install -c conda-forge folium=0.5.0 --yes\nimport folium\n\nprint('Libraries imported successfully')", 
            "cell_type": "code", 
            "execution_count": 2, 
            "outputs": [
                {
                    "output_type": "stream", 
                    "name": "stdout", 
                    "text": "Solving environment: done\n\n## Package Plan ##\n\n  environment location: /opt/conda/envs/Python36\n\n  added / updated specs: \n    - folium=0.5.0\n\n\nThe following packages will be downloaded:\n\n    package                    |            build\n    ---------------------------|-----------------\n    ca-certificates-2019.6.16  |       hecc5488_0         145 KB  conda-forge\n    folium-0.5.0               |             py_0          45 KB  conda-forge\n    vincent-0.4.4              |             py_1          28 KB  conda-forge\n    branca-0.3.1               |             py_0          25 KB  conda-forge\n    altair-3.2.0               |           py36_0         770 KB  conda-forge\n    openssl-1.1.1c             |       h516909a_0         2.1 MB  conda-forge\n    certifi-2019.6.16          |           py36_1         149 KB  conda-forge\n    ------------------------------------------------------------\n                                           Total:         3.3 MB\n\nThe following NEW packages will be INSTALLED:\n\n    altair:          3.2.0-py36_0      conda-forge\n    branca:          0.3.1-py_0        conda-forge\n    folium:          0.5.0-py_0        conda-forge\n    vincent:         0.4.4-py_1        conda-forge\n\nThe following packages will be UPDATED:\n\n    ca-certificates: 2019.5.15-0                   --> 2019.6.16-hecc5488_0 conda-forge\n    certifi:         2019.6.16-py36_1              --> 2019.6.16-py36_1     conda-forge\n\nThe following packages will be DOWNGRADED:\n\n    openssl:         1.1.1c-h7b6447c_1             --> 1.1.1c-h516909a_0    conda-forge\n\n\nDownloading and Extracting Packages\nca-certificates-2019 | 145 KB    | ##################################### | 100% \nfolium-0.5.0         | 45 KB     | ##################################### | 100% \nvincent-0.4.4        | 28 KB     | ##################################### | 100% \nbranca-0.3.1         | 25 KB     | ##################################### | 100% \naltair-3.2.0         | 770 KB    | ##################################### | 100% \nopenssl-1.1.1c       | 2.1 MB    | ##################################### | 100% \ncertifi-2019.6.16    | 149 KB    | ##################################### | 100% \nPreparing transaction: done\nVerifying transaction: done\nExecuting transaction: done\nLibraries imported successfully\n"
                }
            ], 
            "metadata": {}
        }, 
        {
            "source": "url = 'https://en.wikipedia.org/wiki/List_of_postal_codes_of_Canada:_M'\npage = urlopen(url).read().decode('utf-8')\nsoup = BeautifulSoup(page, 'html.parser')\n\nwiki_table = soup.body.table.tbody", 
            "cell_type": "code", 
            "execution_count": 3, 
            "outputs": [], 
            "metadata": {}
        }, 
        {
            "source": "def get_cell(element):\n    cells = element.find_all('td')\n    row = []\n    \n    for cell in cells:\n        if cell.a:            \n            if (cell.a.text):\n                row.append(cell.a.text)\n                continue\n        row.append(cell.string.strip())\n        \n    return row", 
            "cell_type": "code", 
            "execution_count": 4, 
            "outputs": [], 
            "metadata": {}
        }, 
        {
            "source": "def get_row():    \n    data = []  \n    \n    for tr in wiki_table.find_all('tr'):\n        row = get_cell(tr)\n        if len(row) != 3:\n            continue\n        data.append(row)        \n    \n    return data", 
            "cell_type": "code", 
            "execution_count": 5, 
            "outputs": [], 
            "metadata": {}
        }, 
        {
            "source": "data = get_row()\ncolumns = ['Postcode', 'Borough', 'Neighbourhood']\ndf = pd.DataFrame(data, columns=columns)\ndf.head()", 
            "cell_type": "code", 
            "execution_count": 6, 
            "outputs": [
                {
                    "output_type": "execute_result", 
                    "metadata": {}, 
                    "data": {
                        "text/html": "<div>\n<style scoped>\n    .dataframe tbody tr th:only-of-type {\n        vertical-align: middle;\n    }\n\n    .dataframe tbody tr th {\n        vertical-align: top;\n    }\n\n    .dataframe thead th {\n        text-align: right;\n    }\n</style>\n<table border=\"1\" class=\"dataframe\">\n  <thead>\n    <tr style=\"text-align: right;\">\n      <th></th>\n      <th>Postcode</th>\n      <th>Borough</th>\n      <th>Neighbourhood</th>\n    </tr>\n  </thead>\n  <tbody>\n    <tr>\n      <th>0</th>\n      <td>M1A</td>\n      <td>Not assigned</td>\n      <td>Not assigned</td>\n    </tr>\n    <tr>\n      <th>1</th>\n      <td>M2A</td>\n      <td>Not assigned</td>\n      <td>Not assigned</td>\n    </tr>\n    <tr>\n      <th>2</th>\n      <td>M3A</td>\n      <td>North York</td>\n      <td>Parkwoods</td>\n    </tr>\n    <tr>\n      <th>3</th>\n      <td>M4A</td>\n      <td>North York</td>\n      <td>Victoria Village</td>\n    </tr>\n    <tr>\n      <th>4</th>\n      <td>M5A</td>\n      <td>Downtown Toronto</td>\n      <td>Harbourfront</td>\n    </tr>\n  </tbody>\n</table>\n</div>", 
                        "text/plain": "  Postcode           Borough     Neighbourhood\n0      M1A      Not assigned      Not assigned\n1      M2A      Not assigned      Not assigned\n2      M3A        North York         Parkwoods\n3      M4A        North York  Victoria Village\n4      M5A  Downtown Toronto      Harbourfront"
                    }, 
                    "execution_count": 6
                }
            ], 
            "metadata": {}
        }, 
        {
            "source": "df.shape", 
            "cell_type": "code", 
            "execution_count": 7, 
            "outputs": [
                {
                    "output_type": "execute_result", 
                    "metadata": {}, 
                    "data": {
                        "text/plain": "(288, 3)"
                    }, 
                    "execution_count": 7
                }
            ], 
            "metadata": {}
        }, 
        {
            "source": "df1 = df[df.Borough != 'Not assigned']\ndf1 = df1.sort_values(by=['Postcode','Borough'])\n\ndf1.reset_index(inplace=True)\ndf1.drop('index',axis=1,inplace=True)\n\ndf1.head()", 
            "cell_type": "code", 
            "execution_count": 8, 
            "outputs": [
                {
                    "output_type": "execute_result", 
                    "metadata": {}, 
                    "data": {
                        "text/html": "<div>\n<style scoped>\n    .dataframe tbody tr th:only-of-type {\n        vertical-align: middle;\n    }\n\n    .dataframe tbody tr th {\n        vertical-align: top;\n    }\n\n    .dataframe thead th {\n        text-align: right;\n    }\n</style>\n<table border=\"1\" class=\"dataframe\">\n  <thead>\n    <tr style=\"text-align: right;\">\n      <th></th>\n      <th>Postcode</th>\n      <th>Borough</th>\n      <th>Neighbourhood</th>\n    </tr>\n  </thead>\n  <tbody>\n    <tr>\n      <th>0</th>\n      <td>M1B</td>\n      <td>Scarborough</td>\n      <td>Rouge</td>\n    </tr>\n    <tr>\n      <th>1</th>\n      <td>M1B</td>\n      <td>Scarborough</td>\n      <td>Malvern</td>\n    </tr>\n    <tr>\n      <th>2</th>\n      <td>M1C</td>\n      <td>Scarborough</td>\n      <td>Highland Creek</td>\n    </tr>\n    <tr>\n      <th>3</th>\n      <td>M1C</td>\n      <td>Scarborough</td>\n      <td>Rouge Hill</td>\n    </tr>\n    <tr>\n      <th>4</th>\n      <td>M1C</td>\n      <td>Scarborough</td>\n      <td>Port Union</td>\n    </tr>\n  </tbody>\n</table>\n</div>", 
                        "text/plain": "  Postcode      Borough   Neighbourhood\n0      M1B  Scarborough           Rouge\n1      M1B  Scarborough         Malvern\n2      M1C  Scarborough  Highland Creek\n3      M1C  Scarborough      Rouge Hill\n4      M1C  Scarborough      Port Union"
                    }, 
                    "execution_count": 8
                }
            ], 
            "metadata": {}
        }, 
        {
            "source": "df_postcodes = df1['Postcode']\ndf_postcodes.drop_duplicates(inplace=True)\ndf2 = pd.DataFrame(df_postcodes)\ndf2['Borough'] = '';\ndf2['Neighbourhood'] = '';\n\n\ndf2.reset_index(inplace=True)\ndf2.drop('index', axis=1, inplace=True)\ndf1.reset_index(inplace=True)\ndf1.drop('index', axis=1, inplace=True)\n\nfor i in df2.index:\n    for j in df1.index:\n        if df2.iloc[i, 0] == df1.iloc[j, 0]:\n            df2.iloc[i, 1] = df1.iloc[j, 1]\n            df2.iloc[i, 2] = df2.iloc[i, 2] + ',' + df1.iloc[j, 2]\n            \nfor i in df2.index:\n    s = df2.iloc[i, 2]\n    if s[0] == ',':\n        s =s [1:]\n    df2.iloc[i,2 ] = s", 
            "cell_type": "code", 
            "execution_count": 9, 
            "outputs": [], 
            "metadata": {}
        }, 
        {
            "source": "df2.shape", 
            "cell_type": "code", 
            "execution_count": 10, 
            "outputs": [
                {
                    "output_type": "execute_result", 
                    "metadata": {}, 
                    "data": {
                        "text/plain": "(103, 3)"
                    }, 
                    "execution_count": 10
                }
            ], 
            "metadata": {}
        }
    ], 
    "nbformat": 4, 
    "metadata": {
        "kernelspec": {
            "display_name": "Python 3.6", 
            "name": "python3", 
            "language": "python"
        }, 
        "language_info": {
            "mimetype": "text/x-python", 
            "nbconvert_exporter": "python", 
            "version": "3.6.8", 
            "name": "python", 
            "pygments_lexer": "ipython3", 
            "file_extension": ".py", 
            "codemirror_mode": {
                "version": 3, 
                "name": "ipython"
            }
        }
    }
}