{
    "nbformat_minor": 1, 
    "cells": [
        {
            "source": "<h2>Data used in the Project</h2>", 
            "cell_type": "markdown", 
            "metadata": {}
        }, 
        {
            "source": "\nThis project is about finding the best location to start sushi resturant and get good amount of user acquisition and given best in class customer ecperience, we will use the following sources of information:\n\n<ul>\n<li> New York City, officially the City of New York, historically New Amsterdam, the Mayor, Alderman, and Commonality of the City of New York, and New Orange, byname the Big Apple, city and port located at the mouth of the Hudson River, southeastern New York state, northeastern U.S. Newyork has a total of 5 boroughs and 306 neighborhoods. In order to segement the neighborhoods and explore them, we will essentially need a dataset that contains the 5 boroughs and the neighborhoods that exist in each borough as well as the the latitude and logitude coordinates of each neighborhood. This dataset exists for free on the web, here is the link to the dataset: https://geo.nyu.edu/catalog/nyu_2451_34572</li>\n\n\n<li>Sushi category id is extracted from Foursquare Venues Categories - https://developer.foursquare.com/docs/resources/categories | Sushi category Id - 5bae9231bedf3950379f89e4</li>\n</ul>", 
            "cell_type": "markdown", 
            "metadata": {
                "collapsed": true
            }
        }
    ], 
    "nbformat": 4, 
    "metadata": {
        "kernelspec": {
            "display_name": "Python 3.6", 
            "name": "python3", 
            "language": "python"
        }, 
        "language_info": {
            "mimetype": "text/x-python", 
            "nbconvert_exporter": "python", 
            "version": "3.6.8", 
            "name": "python", 
            "pygments_lexer": "ipython3", 
            "file_extension": ".py", 
            "codemirror_mode": {
                "version": 3, 
                "name": "ipython"
            }
        }
    }
}